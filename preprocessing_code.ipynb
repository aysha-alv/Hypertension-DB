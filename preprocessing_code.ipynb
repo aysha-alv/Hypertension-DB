{
 "cells": [
  {
   "cell_type": "code",
   "execution_count": null,
   "metadata": {},
   "outputs": [],
   "source": [
    "# Load libraries\n",
    "import pandas as pd\n",
    "import os\n",
    "\n",
    "# Set the data folder path\n",
    "data_folder = \"data\"\n",
    "\n",
    "# Load datasets\n",
    "diagnoses = pd.read_csv(os.path.join(data_folder, \"0-1000 diagnoses.csv\"))\n",
    "meds = pd.read_csv(os.path.join(data_folder, \"0-1000 meds.csv\"))\n",
    "patients = pd.read_csv(os.path.join(data_folder, \"0-1000 patient.csv\"))\n",
    "\n",
    "# Merge datasets\n",
    "merged_data = diagnoses.merge(meds, on=\"patient_id\").merge(patients, on=\"patient_id\")\n",
    "\n",
    "# Handle missing values\n",
    "# Fill numerical columns with mean\n",
    "numerical_cols = merged_data.select_dtypes(include=[\"float64\", \"int64\"]).columns\n",
    "for col in numerical_cols:\n",
    "    merged_data[col].fillna(merged_data[col].mean(), inplace=True)\n",
    "\n",
    "# Fill categorical columns with mode\n",
    "categorical_cols = merged_data.select_dtypes(include=[\"object\"]).columns\n",
    "for col in categorical_cols:\n",
    "    merged_data[col].fillna(merged_data[col].mode()[0], inplace=True)\n",
    "\n",
    "# Verify no missing values remain\n",
    "print(\"Missing values per column after imputation:\")\n",
    "print(merged_data.isnull().sum())\n",
    "\n",
    "# Save processed data\n",
    "output_path = os.path.join(data_folder, \"processed_data.csv\")\n",
    "merged_data.to_csv(output_path, index=False)\n",
    "\n",
    "print(f\"Processed data saved to {output_path}\")\n"
   ]
  }
 ],
 "metadata": {
  "kernelspec": {
   "display_name": "healthcare-ds",
   "language": "python",
   "name": "python3"
  },
  "language_info": {
   "codemirror_mode": {
    "name": "ipython",
    "version": 3
   },
   "file_extension": ".py",
   "mimetype": "text/x-python",
   "name": "python",
   "nbconvert_exporter": "python",
   "pygments_lexer": "ipython3",
   "version": "3.12.7"
  }
 },
 "nbformat": 4,
 "nbformat_minor": 2
}
